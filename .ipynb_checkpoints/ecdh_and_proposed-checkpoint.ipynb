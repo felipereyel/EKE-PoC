{
 "cells": [
  {
   "cell_type": "code",
   "execution_count": null,
   "id": "fff7905d",
   "metadata": {},
   "outputs": [],
   "source": [
    "def inverseMod(a, mod):\n",
    "    while(a < 0):\n",
    "        a = a + mod\n",
    "    \n",
    "    x1 = 1; x2 = 0; x3 = mod\n",
    "    y1 = 0; y2 = 1; y3 = a\n",
    "    \n",
    "    q = int(x3 / y3)\n",
    "    t1 = x1 - q*y1\n",
    "    t2 = x2 - q*y2\n",
    "    t3 = x3 - (q*y3)\n",
    "    \n",
    "    while(y3 != 1):\n",
    "        x1 = y1; x2 = y2; x3 = y3\n",
    "        y1 = t1; y2 = t2; y3 = t3\n",
    "        \n",
    "        q = int(x3 / y3)\n",
    "        t1 = x1 - q*y1\n",
    "        t2 = x2 - q*y2\n",
    "        t3 = x3 - (q*y3)\n",
    "    \n",
    "    while(y2 < 0):\n",
    "        y2 = y2 + mod\n",
    "    \n",
    "    return y2"
   ]
  },
  {
   "cell_type": "code",
   "execution_count": 37,
   "id": "0fbbb9c1",
   "metadata": {},
   "outputs": [],
   "source": [
    "class Curve:\n",
    "    def __init__(self, a, b, mod):\n",
    "        # curve configuration\n",
    "        # y^2 = x^3 + a*x + b\n",
    "        self.a = a\n",
    "        self.b = b\n",
    "        self.mod = mod\n",
    "        \n",
    "defaultCurve = Curve(a=0, b=7, mod=199)"
   ]
  },
  {
   "cell_type": "code",
   "execution_count": 50,
   "id": "e9d02453",
   "metadata": {},
   "outputs": [],
   "source": [
    "class Point:\n",
    "    def __init__(self, x, y, curve=defaultCurve):\n",
    "        xp = x % curve.mod\n",
    "        yp = y % curve.mod\n",
    "        \n",
    "        while(xp < 0):\n",
    "            xp = xp + curve.mod\n",
    "\n",
    "        while(yp < 0):\n",
    "            yp = yp + curve.mod\n",
    "        \n",
    "        self.x = xp\n",
    "        self.y = yp\n",
    "        self.curve = curve\n",
    "        \n",
    "    def copy(self):\n",
    "        return Point(self.x, self.y, self.curve)\n",
    "    \n",
    "    def __neg__(self):\n",
    "        return Point(self.x, -self.y, self.curve)\n",
    "    \n",
    "    def __eq__(self, other):\n",
    "        return self.x == other.x and self.y == other.y and self.curve == other.curve\n",
    "        \n",
    "    def __add__(self, other):\n",
    "        if other.curve != self.curve:\n",
    "            raise Exception(\"Can not add with different curves\")\n",
    "        \n",
    "        if self == other:\n",
    "            beta = (3 * self.x * self.x + self.curve.a) * inverseMod(2 * self.y, self.curve.mod)\n",
    "        else:\n",
    "            beta = (other.y - self.y) * inverseMod(other.x - self.x, self.curve.mod)\n",
    "\n",
    "        xnew = beta * beta - self.x - other.x\n",
    "        ynew = beta * (self.x - xnew) - self.y\n",
    "\n",
    "        return Point(xnew, ynew, self.curve)\n",
    "    \n",
    "    def __mul__(self, k):\n",
    "        temp = self.copy()\n",
    "        kAsBinary = bin(k)\n",
    "        kAsBinary = kAsBinary[2:len(kAsBinary)]\n",
    "\n",
    "        for i in range(1, len(kAsBinary)):\n",
    "            temp = temp + temp\n",
    "            if kAsBinary[i: i+1] == '1':\n",
    "                temp = temp + self\n",
    "\n",
    "        return temp\n",
    "    \n",
    "    def __rmul__(self, k):\n",
    "        return self * k\n",
    "\n",
    "g = Point(x=2, y=24)"
   ]
  },
  {
   "cell_type": "markdown",
   "id": "bc11e321",
   "metadata": {},
   "source": [
    "## ECDH"
   ]
  },
  {
   "cell_type": "code",
   "execution_count": 51,
   "id": "23a97fb3",
   "metadata": {},
   "outputs": [
    {
     "name": "stdout",
     "output_type": "stream",
     "text": [
      " alicePublic.x = 18,  alicePublic.y = 119\n"
     ]
    }
   ],
   "source": [
    "# Alice gera publica\n",
    "alicePrivate = 2010000000000017\n",
    "alicePublic = alicePrivate * g\n",
    "print(f'{ alicePublic.x = }, { alicePublic.y = }')"
   ]
  },
  {
   "cell_type": "code",
   "execution_count": 52,
   "id": "db2cfcef",
   "metadata": {},
   "outputs": [
    {
     "name": "stdout",
     "output_type": "stream",
     "text": [
      " bobPublic.x = 186,  bobPublic.y = 19\n"
     ]
    }
   ],
   "source": [
    "# Bob gera publica\n",
    "bobPrivate = 2010000000000061\n",
    "bobPublic = bobPrivate * g\n",
    "print(f'{ bobPublic.x = }, { bobPublic.y = }')"
   ]
  },
  {
   "cell_type": "code",
   "execution_count": 53,
   "id": "00059386",
   "metadata": {},
   "outputs": [
    {
     "name": "stdout",
     "output_type": "stream",
     "text": [
      " aliceShared.x = 68,  aliceShared.y = 88\n"
     ]
    }
   ],
   "source": [
    "# Alice computa shared a partir de publica de Bob\n",
    "aliceShared = alicePrivate * bobPublic\n",
    "print(f'{ aliceShared.x = }, { aliceShared.y = }')"
   ]
  },
  {
   "cell_type": "code",
   "execution_count": 54,
   "id": "f86ed301",
   "metadata": {},
   "outputs": [
    {
     "name": "stdout",
     "output_type": "stream",
     "text": [
      " bobShared.x = 68,  bobShared.y = 88\n"
     ]
    }
   ],
   "source": [
    "# Bob computa shared a partir de publica de Alice\n",
    "bobShared = bobPrivate* alicePublic\n",
    "print(f'{ bobShared.x = }, { bobShared.y = }')"
   ]
  },
  {
   "cell_type": "markdown",
   "id": "2a64b8de",
   "metadata": {},
   "source": [
    "## Proposed"
   ]
  },
  {
   "cell_type": "code",
   "execution_count": null,
   "id": "e2c24119",
   "metadata": {},
   "outputs": [],
   "source": []
  }
 ],
 "metadata": {
  "kernelspec": {
   "display_name": "Python 3",
   "language": "python",
   "name": "python3"
  },
  "language_info": {
   "codemirror_mode": {
    "name": "ipython",
    "version": 3
   },
   "file_extension": ".py",
   "mimetype": "text/x-python",
   "name": "python",
   "nbconvert_exporter": "python",
   "pygments_lexer": "ipython3",
   "version": "3.9.5"
  }
 },
 "nbformat": 4,
 "nbformat_minor": 5
}
