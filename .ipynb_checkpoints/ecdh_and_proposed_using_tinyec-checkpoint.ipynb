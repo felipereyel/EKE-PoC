{
 "cells": [
  {
   "cell_type": "code",
   "execution_count": 1,
   "id": "77e46c5b",
   "metadata": {
    "scrolled": true
   },
   "outputs": [
    {
     "name": "stdout",
     "output_type": "stream",
     "text": [
      "Defaulting to user installation because normal site-packages is not writeable\n",
      "Requirement already satisfied: tinyec in /home/reyelabstra/.local/lib/python3.9/site-packages (0.3.1)\n"
     ]
    }
   ],
   "source": [
    "!pip install tinyec"
   ]
  },
  {
   "cell_type": "code",
   "execution_count": 2,
   "id": "5e00abe5",
   "metadata": {},
   "outputs": [],
   "source": [
    "import secrets\n",
    "from tinyec import registry"
   ]
  },
  {
   "cell_type": "code",
   "execution_count": 3,
   "id": "09f4a4b1",
   "metadata": {},
   "outputs": [],
   "source": [
    "def compress(pubKey):\n",
    "    return hex(pubKey.x)"
   ]
  },
  {
   "cell_type": "code",
   "execution_count": 4,
   "id": "288b5558",
   "metadata": {},
   "outputs": [],
   "source": [
    "curve = registry.get_curve('secp256r1')"
   ]
  },
  {
   "cell_type": "code",
   "execution_count": 5,
   "id": "b077e70a",
   "metadata": {},
   "outputs": [
    {
     "name": "stdout",
     "output_type": "stream",
     "text": [
      "Alice public key: 0xb78e2e57620910f427525e5b3971833a5fe1cef062e9fcb05fdd07996627d8ab\n"
     ]
    }
   ],
   "source": [
    "alicePrivKey = secrets.randbelow(curve.field.n)\n",
    "alicePubKey = alicePrivKey * curve.g\n",
    "print(\"Alice public key:\", compress(alicePubKey))"
   ]
  },
  {
   "cell_type": "code",
   "execution_count": 6,
   "id": "b4ae50c7",
   "metadata": {},
   "outputs": [
    {
     "name": "stdout",
     "output_type": "stream",
     "text": [
      "Bob public key: 0xc0d5d2ef7a7c1e15c43b1be3ee9d43ae6168f31abaac2a88c94bc829ed170ce2\n"
     ]
    }
   ],
   "source": [
    "bobPrivKey = secrets.randbelow(curve.field.n)\n",
    "bobPubKey = bobPrivKey * curve.g\n",
    "print(\"Bob public key:\", compress(bobPubKey))"
   ]
  },
  {
   "cell_type": "markdown",
   "id": "e04d63e5",
   "metadata": {},
   "source": [
    "# ECDH"
   ]
  },
  {
   "cell_type": "code",
   "execution_count": 7,
   "id": "0014eee8",
   "metadata": {},
   "outputs": [
    {
     "name": "stdout",
     "output_type": "stream",
     "text": [
      "Alice shared key: 0x894bafaf21f9cc9fd880a8fa8e8f8e9c592d385dffd55c60a111996a5b44b4ea\n"
     ]
    }
   ],
   "source": [
    "aliceSharedKey = alicePrivKey * bobPubKey\n",
    "print(\"Alice shared key:\", compress(aliceSharedKey))"
   ]
  },
  {
   "cell_type": "code",
   "execution_count": 8,
   "id": "035b407a",
   "metadata": {},
   "outputs": [
    {
     "name": "stdout",
     "output_type": "stream",
     "text": [
      "Bob shared key: 0x894bafaf21f9cc9fd880a8fa8e8f8e9c592d385dffd55c60a111996a5b44b4ea\n"
     ]
    }
   ],
   "source": [
    "bobSharedKey = bobPrivKey * alicePubKey\n",
    "print(\"Bob shared key:\", compress(bobSharedKey))"
   ]
  },
  {
   "cell_type": "code",
   "execution_count": 9,
   "id": "ddc436c1",
   "metadata": {},
   "outputs": [
    {
     "name": "stdout",
     "output_type": "stream",
     "text": [
      "Equal shared keys: True\n"
     ]
    }
   ],
   "source": [
    "print(\"Equal shared keys:\", aliceSharedKey == bobSharedKey)"
   ]
  },
  {
   "cell_type": "markdown",
   "id": "2deee20f",
   "metadata": {},
   "source": [
    "# Selected"
   ]
  },
  {
   "cell_type": "code",
   "execution_count": 10,
   "id": "d019e777",
   "metadata": {},
   "outputs": [
    {
     "name": "stdout",
     "output_type": "stream",
     "text": [
      "aliceSessionSecret: 107823986422194310705984168630421926947990428659194648727579011669442409961706\n",
      "aliceSelfPartialShared: 0x544796743a83373b999e59413254f512cde7dcb1e6dffa84695283810ac3031\n",
      "to Bob: 0xbc539917da69844f45f9123982376bfed47039a0454cdf4f1fc4be9404b182e9\n"
     ]
    }
   ],
   "source": [
    "aliceSessionSecret = secrets.randbelow(curve.field.n)\n",
    "print(\"aliceSessionSecret:\", aliceSessionSecret)\n",
    "\n",
    "aliceSelfPartialShared = aliceSessionSecret * curve.g\n",
    "print(\"aliceSelfPartialShared:\", compress(aliceSelfPartialShared))\n",
    "\n",
    "toBob = (alicePrivKey + aliceSessionSecret) * bobPubKey\n",
    "print(\"to Bob:\", compress(toBob))"
   ]
  },
  {
   "cell_type": "code",
   "execution_count": 11,
   "id": "b254e7f1",
   "metadata": {},
   "outputs": [
    {
     "name": "stdout",
     "output_type": "stream",
     "text": [
      "bobSessionSecret: 31795624434691938380819900179971381491177620673220318826992248653063820471106\n",
      "bobSelfPartialShared: 0x13cb3985239bd83c71b9779edd96dd3c73944c60dda3f20d446a5bde100799e1\n",
      "to Alice: 0x6374c84e8e90baa1061ac074840835609a10fc0f0e9b82dd8b7d90469ea552c1\n"
     ]
    }
   ],
   "source": [
    "bobSessionSecret = secrets.randbelow(curve.field.n)\n",
    "print(\"bobSessionSecret:\", bobSessionSecret)\n",
    "\n",
    "bobSelfPartialShared = bobSessionSecret * curve.g\n",
    "print(\"bobSelfPartialShared:\", compress(bobSelfPartialShared))\n",
    "\n",
    "toAlice = (bobPrivKey + bobSessionSecret) * alicePubKey\n",
    "print(\"to Alice:\", compress(toAlice))"
   ]
  },
  {
   "cell_type": "markdown",
   "id": "9ec49eef",
   "metadata": {},
   "source": [
    "## Computing shared"
   ]
  },
  {
   "cell_type": "code",
   "execution_count": 17,
   "id": "0eeece45",
   "metadata": {},
   "outputs": [
    {
     "name": "stdout",
     "output_type": "stream",
     "text": [
      "alice Partial Shared: 0xcbedc5691fb081b68d42d4498f7ed5f1b95db2bb84b1f3ba69af8586aab0728e\n",
      "aliceShared: 0xf4ce057fbbb5b8d6ef0fa2901db7487d4c96086a95fdc4f9065a50456a387a7b\n"
     ]
    }
   ],
   "source": [
    "alicePrivKeyInv = pow(alicePrivKey, -1, curve.field.n)\n",
    "\n",
    "alicePartialShared =  (toAlice * alicePrivKeyInv) - alicePubKey\n",
    "print(\"alice Partial Shared:\", compress(alicePartialShared))\n",
    "\n",
    "aliceShared = aliceSelfPartialShared + alicePartialShared\n",
    "print(\"aliceShared:\", compress(aliceShared))"
   ]
  },
  {
   "cell_type": "code",
   "execution_count": 18,
   "id": "44b4a0ac",
   "metadata": {},
   "outputs": [
    {
     "name": "stdout",
     "output_type": "stream",
     "text": [
      "bob Partial Shared: 0xcc6583920e4209bb65573037bb70094c7619b886b6e8bb2f9f13164b92ecb914\n",
      "bobShared: 0x3ef7e8e7a0db018ac663aae172dd0912651fa42f97d99e4413f47de0b0e532a5\n"
     ]
    }
   ],
   "source": [
    "bobPrivKeyInv = pow(bobPrivKey, -1, curve.field.n)\n",
    "\n",
    "bobPartialShared = (toBob * bobPrivKeyInv) - bobPubKey\n",
    "print(\"bob Partial Shared:\", compress(bobPartialShared))\n",
    "\n",
    "bobShared = bobSelfPartialShared + bobPartialShared\n",
    "print(\"bobShared:\", compress(bobShared))"
   ]
  },
  {
   "cell_type": "code",
   "execution_count": 20,
   "id": "083a96e3",
   "metadata": {},
   "outputs": [
    {
     "name": "stdout",
     "output_type": "stream",
     "text": [
      "Equal shared keys: False\n"
     ]
    }
   ],
   "source": [
    "print(\"Equal shared keys:\", aliceShared.x == bobShared.x)"
   ]
  },
  {
   "cell_type": "code",
   "execution_count": null,
   "id": "9fecf3d7",
   "metadata": {},
   "outputs": [],
   "source": []
  }
 ],
 "metadata": {
  "kernelspec": {
   "display_name": "Python 3",
   "language": "python",
   "name": "python3"
  },
  "language_info": {
   "codemirror_mode": {
    "name": "ipython",
    "version": 3
   },
   "file_extension": ".py",
   "mimetype": "text/x-python",
   "name": "python",
   "nbconvert_exporter": "python",
   "pygments_lexer": "ipython3",
   "version": "3.9.5"
  }
 },
 "nbformat": 4,
 "nbformat_minor": 5
}
