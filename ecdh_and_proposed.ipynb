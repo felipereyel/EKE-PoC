{
 "cells": [
  {
   "cell_type": "code",
   "execution_count": 59,
   "id": "192a9ee4",
   "metadata": {},
   "outputs": [],
   "source": [
    "def inverseMod(a, mod):\n",
    "    while(a < 0):\n",
    "        a = a + mod\n",
    "    \n",
    "    x1 = 1; x2 = 0; x3 = mod\n",
    "    y1 = 0; y2 = 1; y3 = a\n",
    "    \n",
    "    q = int(x3 / y3)\n",
    "    t1 = x1 - q*y1\n",
    "    t2 = x2 - q*y2\n",
    "    t3 = x3 - (q*y3)\n",
    "    \n",
    "    while(y3 != 1):\n",
    "        x1 = y1; x2 = y2; x3 = y3\n",
    "        y1 = t1; y2 = t2; y3 = t3\n",
    "        \n",
    "        q = int(x3 / y3)\n",
    "        t1 = x1 - q*y1\n",
    "        t2 = x2 - q*y2\n",
    "        t3 = x3 - (q*y3)\n",
    "    \n",
    "    while(y2 < 0):\n",
    "        y2 = y2 + mod\n",
    "    \n",
    "    return y2"
   ]
  },
  {
   "cell_type": "code",
   "execution_count": 60,
   "id": "9edb6e55",
   "metadata": {},
   "outputs": [],
   "source": [
    "class Curve:\n",
    "    def __init__(self, a, b, p):\n",
    "        # curve configuration\n",
    "        # y^2 = x^3 + a*x + b\n",
    "        self.a = a\n",
    "        self.b = b\n",
    "        self.p = p\n",
    "        \n",
    "defaultCurve = Curve(a=0, b=7, p=199)"
   ]
  },
  {
   "cell_type": "code",
   "execution_count": 76,
   "id": "f3a362b7",
   "metadata": {},
   "outputs": [],
   "source": [
    "class Point:\n",
    "    def __init__(self, x, y, curve=defaultCurve):\n",
    "        xp = x % curve.p\n",
    "        yp = y % curve.p\n",
    "        \n",
    "        while(xp < 0):\n",
    "            xp = xp + curve.p\n",
    "\n",
    "        while(yp < 0):\n",
    "            yp = yp + curve.p\n",
    "        \n",
    "        self.x = xp\n",
    "        self.y = yp\n",
    "        self.curve = curve\n",
    "        \n",
    "    def copy(self):\n",
    "        return Point(self.x, self.y, self.curve)\n",
    "    \n",
    "    def __neg__(self):\n",
    "        return Point(self.x, -self.y, self.curve)\n",
    "    \n",
    "    def __eq__(self, other):\n",
    "        return self.x == other.x and self.y == other.y and self.curve == other.curve\n",
    "        \n",
    "    def __add__(self, other):\n",
    "        if other.curve != self.curve:\n",
    "            raise Exception(\"Can not add with different curves\")\n",
    "        \n",
    "        if self == other:\n",
    "            beta = (3 * self.x * self.x + self.curve.a) * inverseMod(2 * self.y, self.curve.p)\n",
    "        else:\n",
    "            beta = (other.y - self.y) * inverseMod(other.x - self.x, self.curve.p)\n",
    "\n",
    "        xnew = beta * beta - self.x - other.x\n",
    "        ynew = beta * (self.x - xnew) - self.y\n",
    "\n",
    "        return Point(xnew, ynew, self.curve)\n",
    "    \n",
    "    def __sub__(self, other):\n",
    "        return self + (-other)\n",
    "    \n",
    "    def __mul__(self, k):\n",
    "        temp = self.copy()\n",
    "        kAsBinary = bin(k)\n",
    "        kAsBinary = kAsBinary[2:len(kAsBinary)]\n",
    "\n",
    "        for i in range(1, len(kAsBinary)):\n",
    "            temp = temp + temp\n",
    "            if kAsBinary[i: i+1] == '1':\n",
    "                temp = temp + self\n",
    "\n",
    "        return temp\n",
    "    \n",
    "    def __rmul__(self, k):\n",
    "        return self * k\n",
    "\n",
    "g = Point(x=2, y=24)"
   ]
  },
  {
   "cell_type": "markdown",
   "id": "a185e344",
   "metadata": {},
   "source": [
    "## ECDH"
   ]
  },
  {
   "cell_type": "code",
   "execution_count": 77,
   "id": "b1660a30",
   "metadata": {},
   "outputs": [
    {
     "name": "stdout",
     "output_type": "stream",
     "text": [
      " alicePublic.x = 18,  alicePublic.y = 119\n"
     ]
    }
   ],
   "source": [
    "# Alice gera publica\n",
    "alicePrivate = 2010000000000017\n",
    "alicePublic = alicePrivate * g\n",
    "print(f'{ alicePublic.x = }, { alicePublic.y = }')"
   ]
  },
  {
   "cell_type": "code",
   "execution_count": 78,
   "id": "c5b0357b",
   "metadata": {},
   "outputs": [
    {
     "name": "stdout",
     "output_type": "stream",
     "text": [
      " bobPublic.x = 186,  bobPublic.y = 19\n"
     ]
    }
   ],
   "source": [
    "# Bob gera publica\n",
    "bobPrivate = 2010000000000061\n",
    "bobPublic = bobPrivate * g\n",
    "print(f'{ bobPublic.x = }, { bobPublic.y = }')"
   ]
  },
  {
   "cell_type": "code",
   "execution_count": 79,
   "id": "0a2b68e2",
   "metadata": {},
   "outputs": [
    {
     "name": "stdout",
     "output_type": "stream",
     "text": [
      " aliceShared.x = 68,  aliceShared.y = 88\n"
     ]
    }
   ],
   "source": [
    "# Alice computa shared a partir de publica de Bob\n",
    "aliceShared = alicePrivate * bobPublic\n",
    "print(f'{ aliceShared.x = }, { aliceShared.y = }')"
   ]
  },
  {
   "cell_type": "code",
   "execution_count": 80,
   "id": "eab23f06",
   "metadata": {},
   "outputs": [
    {
     "name": "stdout",
     "output_type": "stream",
     "text": [
      " bobShared.x = 68,  bobShared.y = 88\n"
     ]
    }
   ],
   "source": [
    "# Bob computa shared a partir de publica de Alice\n",
    "bobShared = bobPrivate * alicePublic\n",
    "print(f'{ bobShared.x = }, { bobShared.y = }')"
   ]
  },
  {
   "cell_type": "markdown",
   "id": "ef0be632",
   "metadata": {},
   "source": [
    "## Proposed"
   ]
  },
  {
   "cell_type": "markdown",
   "id": "6a6adc3b",
   "metadata": {},
   "source": [
    "### Registration (gerar chaves publicas)"
   ]
  },
  {
   "cell_type": "code",
   "execution_count": 81,
   "id": "e6559254",
   "metadata": {},
   "outputs": [
    {
     "name": "stdout",
     "output_type": "stream",
     "text": [
      " alicePublic.x = 18,  alicePublic.y = 119\n"
     ]
    }
   ],
   "source": [
    "# Alice gera publica\n",
    "alicePrivate = 2010000000000017\n",
    "alicePublic = alicePrivate * g\n",
    "print(f'{ alicePublic.x = }, { alicePublic.y = }')"
   ]
  },
  {
   "cell_type": "code",
   "execution_count": 82,
   "id": "b8d14831",
   "metadata": {},
   "outputs": [
    {
     "name": "stdout",
     "output_type": "stream",
     "text": [
      " bobPublic.x = 186,  bobPublic.y = 19\n"
     ]
    }
   ],
   "source": [
    "# Bob gera publica\n",
    "bobPrivate = 2010000000000061\n",
    "bobPublic = bobPrivate * g\n",
    "print(f'{ bobPublic.x = }, { bobPublic.y = }')"
   ]
  },
  {
   "cell_type": "markdown",
   "id": "e38688c6",
   "metadata": {},
   "source": [
    "### Computacao (segredo da sessao e envio)"
   ]
  },
  {
   "cell_type": "code",
   "execution_count": 83,
   "id": "3ac1a9cf",
   "metadata": {},
   "outputs": [
    {
     "name": "stdout",
     "output_type": "stream",
     "text": [
      " toBob.x = 103,  toBob.y = 136\n"
     ]
    }
   ],
   "source": [
    "aliceSessionSecret = 1982639182\n",
    "toBob = ((alicePrivate + aliceSessionSecret) % defaultCurve.p) * bobPublic\n",
    "print(f'{ toBob.x = }, { toBob.y = }')"
   ]
  },
  {
   "cell_type": "code",
   "execution_count": 84,
   "id": "d1f17525",
   "metadata": {},
   "outputs": [
    {
     "name": "stdout",
     "output_type": "stream",
     "text": [
      " toAlice.x = 162,  toAlice.y = 62\n"
     ]
    }
   ],
   "source": [
    "bobSessionSecret = 7189234751\n",
    "toAlice = ((bobPrivate + bobSessionSecret) % defaultCurve.p) * alicePublic\n",
    "print(f'{ toAlice.x = }, { toAlice.y = }')"
   ]
  },
  {
   "cell_type": "markdown",
   "id": "3e2d4967",
   "metadata": {},
   "source": [
    "### Computacao chave sessao"
   ]
  },
  {
   "cell_type": "code",
   "execution_count": 85,
   "id": "4815b363",
   "metadata": {},
   "outputs": [
    {
     "name": "stdout",
     "output_type": "stream",
     "text": [
      " aliceShared.x = 158,  aliceShared.y = 125\n"
     ]
    }
   ],
   "source": [
    "aliceShared = inverseMod(alicePrivate, defaultCurve.p) * toAlice - alicePublic\n",
    "print(f'{ aliceShared.x = }, { aliceShared.y = }')"
   ]
  },
  {
   "cell_type": "code",
   "execution_count": 86,
   "id": "2ea982f1",
   "metadata": {},
   "outputs": [
    {
     "name": "stdout",
     "output_type": "stream",
     "text": [
      " bobShared.x = 15,  bobShared.y = 180\n"
     ]
    }
   ],
   "source": [
    "bobShared = inverseMod(bobPrivate, defaultCurve.p) * toBob - bobPublic\n",
    "print(f'{ bobShared.x = }, { bobShared.y = }')"
   ]
  },
  {
   "cell_type": "code",
   "execution_count": null,
   "id": "5b2606d0",
   "metadata": {},
   "outputs": [],
   "source": []
  }
 ],
 "metadata": {
  "kernelspec": {
   "display_name": "Python 3",
   "language": "python",
   "name": "python3"
  },
  "language_info": {
   "codemirror_mode": {
    "name": "ipython",
    "version": 3
   },
   "file_extension": ".py",
   "mimetype": "text/x-python",
   "name": "python",
   "nbconvert_exporter": "python",
   "pygments_lexer": "ipython3",
   "version": "3.9.5"
  }
 },
 "nbformat": 4,
 "nbformat_minor": 5
}
