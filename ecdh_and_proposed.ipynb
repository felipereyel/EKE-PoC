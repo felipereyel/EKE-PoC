{
 "cells": [
  {
   "cell_type": "code",
   "execution_count": 10,
   "id": "192a9ee4",
   "metadata": {},
   "outputs": [],
   "source": [
    "import secrets"
   ]
  },
  {
   "cell_type": "code",
   "execution_count": 11,
   "id": "db74ea7b",
   "metadata": {},
   "outputs": [],
   "source": [
    "def inverseMod(a, mod):\n",
    "    return pow(a, -1, mod)"
   ]
  },
  {
   "cell_type": "code",
   "execution_count": 29,
   "id": "9edb6e55",
   "metadata": {},
   "outputs": [],
   "source": [
    "class Curve:\n",
    "    def __init__(self, a, b, p):\n",
    "        # curve configuration\n",
    "        # y^2 = x^3 + a*x + b\n",
    "        self.a = a\n",
    "        self.b = b\n",
    "        self.p = p\n",
    "        \n",
    "defaultCurve = Curve(a=0, b=7, p=23)"
   ]
  },
  {
   "cell_type": "code",
   "execution_count": 30,
   "id": "f3a362b7",
   "metadata": {},
   "outputs": [],
   "source": [
    "class Point:\n",
    "    def __init__(self, x, y, curve=defaultCurve):\n",
    "        xp = x % curve.p\n",
    "        yp = y % curve.p\n",
    "        \n",
    "        while(xp < 0):\n",
    "            xp = xp + curve.p\n",
    "\n",
    "        while(yp < 0):\n",
    "            yp = yp + curve.p\n",
    "        \n",
    "        self.x = xp\n",
    "        self.y = yp\n",
    "        self.curve = curve\n",
    "        \n",
    "    def copy(self):\n",
    "        return Point(self.x, self.y, self.curve)\n",
    "    \n",
    "    def __neg__(self):\n",
    "        return Point(self.x, -self.y, self.curve)\n",
    "    \n",
    "    def __eq__(self, other):\n",
    "        return self.x == other.x and self.y == other.y and self.curve == other.curve\n",
    "        \n",
    "    def __add__(self, other):\n",
    "        if other.curve != self.curve:\n",
    "            raise Exception(\"Can not add with different curves\")\n",
    "        \n",
    "        if self == other:\n",
    "            beta = (3 * self.x * self.x + self.curve.a) * inverseMod(2 * self.y, self.curve.p)\n",
    "        else:\n",
    "            beta = (other.y - self.y) * inverseMod(other.x - self.x, self.curve.p)\n",
    "\n",
    "        xnew = beta * beta - self.x - other.x\n",
    "        ynew = beta * (self.x - xnew) - self.y\n",
    "\n",
    "        return Point(xnew, ynew, self.curve)\n",
    "    \n",
    "    def __sub__(self, other):\n",
    "        return self + (-other)\n",
    "    \n",
    "    def __mul__(self, k):\n",
    "        temp = self.copy()\n",
    "        kAsBinary = bin(k)\n",
    "        kAsBinary = kAsBinary[2:len(kAsBinary)]\n",
    "\n",
    "        for i in range(1, len(kAsBinary)):\n",
    "            temp = temp + temp\n",
    "            if kAsBinary[i: i+1] == '1':\n",
    "                temp = temp + self\n",
    "\n",
    "        return temp\n",
    "    \n",
    "    def __rmul__(self, k):\n",
    "        return self * k\n",
    "\n",
    "g = Point(x=2, y=24)"
   ]
  },
  {
   "cell_type": "markdown",
   "id": "a185e344",
   "metadata": {},
   "source": [
    "## ECDH"
   ]
  },
  {
   "cell_type": "code",
   "execution_count": 31,
   "id": "b1660a30",
   "metadata": {},
   "outputs": [
    {
     "name": "stdout",
     "output_type": "stream",
     "text": [
      " alicePublic.x = 16\n"
     ]
    }
   ],
   "source": [
    "# Alice gera publica\n",
    "alicePrivate = secrets.randbelow(g.curve.p)\n",
    "alicePublic = alicePrivate * g\n",
    "print(f'{ alicePublic.x = }')"
   ]
  },
  {
   "cell_type": "code",
   "execution_count": 32,
   "id": "c5b0357b",
   "metadata": {},
   "outputs": [
    {
     "name": "stdout",
     "output_type": "stream",
     "text": [
      " bobPublic.x = 6\n"
     ]
    }
   ],
   "source": [
    "# Bob gera publica\n",
    "bobPrivate = secrets.randbelow(g.curve.p)\n",
    "bobPublic = bobPrivate * g\n",
    "print(f'{ bobPublic.x = }')"
   ]
  },
  {
   "cell_type": "code",
   "execution_count": 33,
   "id": "0a2b68e2",
   "metadata": {},
   "outputs": [
    {
     "name": "stdout",
     "output_type": "stream",
     "text": [
      " aliceShared.x = 20\n"
     ]
    }
   ],
   "source": [
    "# Alice computa shared a partir de publica de Bob\n",
    "aliceShared = alicePrivate * bobPublic\n",
    "print(f'{ aliceShared.x = }')"
   ]
  },
  {
   "cell_type": "code",
   "execution_count": 34,
   "id": "eab23f06",
   "metadata": {},
   "outputs": [
    {
     "name": "stdout",
     "output_type": "stream",
     "text": [
      " bobShared.x = 20\n"
     ]
    }
   ],
   "source": [
    "# Bob computa shared a partir de publica de Alice\n",
    "bobShared = bobPrivate * alicePublic\n",
    "print(f'{ bobShared.x = }')"
   ]
  },
  {
   "cell_type": "markdown",
   "id": "ef0be632",
   "metadata": {},
   "source": [
    "## Proposed"
   ]
  },
  {
   "cell_type": "markdown",
   "id": "6a6adc3b",
   "metadata": {},
   "source": [
    "### Registration (gerar chaves publicas)"
   ]
  },
  {
   "cell_type": "code",
   "execution_count": 35,
   "id": "e6559254",
   "metadata": {},
   "outputs": [
    {
     "name": "stdout",
     "output_type": "stream",
     "text": [
      " alicePublic.x = 10\n"
     ]
    }
   ],
   "source": [
    "# Alice gera publica\n",
    "alicePrivate = secrets.randbelow(g.curve.p)\n",
    "alicePublic = alicePrivate * g\n",
    "print(f'{ alicePublic.x = }')"
   ]
  },
  {
   "cell_type": "code",
   "execution_count": 36,
   "id": "b8d14831",
   "metadata": {},
   "outputs": [
    {
     "name": "stdout",
     "output_type": "stream",
     "text": [
      " bobPublic.x = 9\n"
     ]
    }
   ],
   "source": [
    "# Bob gera publica\n",
    "bobPrivate = secrets.randbelow(g.curve.p)\n",
    "bobPublic = bobPrivate * g\n",
    "print(f'{ bobPublic.x = }')"
   ]
  },
  {
   "cell_type": "markdown",
   "id": "e38688c6",
   "metadata": {},
   "source": [
    "### Computacao (segredo da sessao e envio)"
   ]
  },
  {
   "cell_type": "code",
   "execution_count": 37,
   "id": "3ac1a9cf",
   "metadata": {},
   "outputs": [
    {
     "name": "stdout",
     "output_type": "stream",
     "text": [
      " toBob.x = 9\n"
     ]
    }
   ],
   "source": [
    "aliceSessionSecret = secrets.randbelow(g.curve.p)\n",
    "toBob = (alicePrivate + aliceSessionSecret) * bobPublic\n",
    "print(f'{ toBob.x = }')"
   ]
  },
  {
   "cell_type": "code",
   "execution_count": 38,
   "id": "d1f17525",
   "metadata": {},
   "outputs": [
    {
     "name": "stdout",
     "output_type": "stream",
     "text": [
      " toAlice.x = 0\n"
     ]
    }
   ],
   "source": [
    "bobSessionSecret = secrets.randbelow(g.curve.p)\n",
    "toAlice = (bobPrivate + bobSessionSecret) * alicePublic\n",
    "print(f'{ toAlice.x = }')"
   ]
  },
  {
   "cell_type": "markdown",
   "id": "3e2d4967",
   "metadata": {},
   "source": [
    "### Computacao chave sessao"
   ]
  },
  {
   "cell_type": "code",
   "execution_count": 39,
   "id": "4815b363",
   "metadata": {},
   "outputs": [
    {
     "name": "stdout",
     "output_type": "stream",
     "text": [
      " aliceSharedPartial.x = 2\n",
      " aliceShared.x = 10\n"
     ]
    }
   ],
   "source": [
    "aliceSharedPartial = inverseMod(alicePrivate, g.curve.p) * toAlice - alicePublic\n",
    "print(f'{ aliceSharedPartial.x = }')\n",
    "\n",
    "aliceShared = aliceSharedPartial + (aliceSessionSecret * g)\n",
    "print(f'{ aliceShared.x = }')"
   ]
  },
  {
   "cell_type": "code",
   "execution_count": 40,
   "id": "2ea982f1",
   "metadata": {},
   "outputs": [
    {
     "name": "stdout",
     "output_type": "stream",
     "text": [
      " bobSharedPartial.x = 9\n",
      " bobShared.x = 0\n"
     ]
    }
   ],
   "source": [
    "bobSharedPartial = inverseMod(bobPrivate, g.curve.p) * toBob - bobPublic\n",
    "print(f'{ bobSharedPartial.x = }')\n",
    "\n",
    "bobShared = bobSharedPartial + (bobSessionSecret * g)\n",
    "print(f'{ bobShared.x = }')"
   ]
  },
  {
   "cell_type": "code",
   "execution_count": null,
   "id": "5b2606d0",
   "metadata": {},
   "outputs": [],
   "source": []
  }
 ],
 "metadata": {
  "kernelspec": {
   "display_name": "Python 3",
   "language": "python",
   "name": "python3"
  },
  "language_info": {
   "codemirror_mode": {
    "name": "ipython",
    "version": 3
   },
   "file_extension": ".py",
   "mimetype": "text/x-python",
   "name": "python",
   "nbconvert_exporter": "python",
   "pygments_lexer": "ipython3",
   "version": "3.9.5"
  }
 },
 "nbformat": 4,
 "nbformat_minor": 5
}
