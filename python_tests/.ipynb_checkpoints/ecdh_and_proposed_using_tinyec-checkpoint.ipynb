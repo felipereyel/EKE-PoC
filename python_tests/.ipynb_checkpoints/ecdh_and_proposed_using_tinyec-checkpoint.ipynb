{
 "cells": [
  {
   "cell_type": "code",
   "execution_count": 1,
   "id": "77e46c5b",
   "metadata": {
    "scrolled": true
   },
   "outputs": [
    {
     "name": "stdout",
     "output_type": "stream",
     "text": [
      "Defaulting to user installation because normal site-packages is not writeable\n",
      "Requirement already satisfied: tinyec in /home/reyelabstra/.local/lib/python3.9/site-packages (0.3.1)\n"
     ]
    }
   ],
   "source": [
    "!pip install tinyec"
   ]
  },
  {
   "cell_type": "code",
   "execution_count": 2,
   "id": "5e00abe5",
   "metadata": {},
   "outputs": [],
   "source": [
    "import secrets\n",
    "from tinyec import registry"
   ]
  },
  {
   "cell_type": "code",
   "execution_count": 3,
   "id": "09f4a4b1",
   "metadata": {},
   "outputs": [],
   "source": [
    "def compress(pubKey):\n",
    "    return hex(pubKey.x)"
   ]
  },
  {
   "cell_type": "code",
   "execution_count": 4,
   "id": "288b5558",
   "metadata": {},
   "outputs": [],
   "source": [
    "curve = registry.get_curve('secp256r1')"
   ]
  },
  {
   "cell_type": "markdown",
   "id": "43621532",
   "metadata": {},
   "source": [
    "# Public Keys"
   ]
  },
  {
   "cell_type": "code",
   "execution_count": 5,
   "id": "b077e70a",
   "metadata": {},
   "outputs": [
    {
     "name": "stdout",
     "output_type": "stream",
     "text": [
      "Alice public key: 0x16cc8c5ff8513ee1a4cf320031de6f5d6b47995ec8add591a91be59efca438f6\n"
     ]
    }
   ],
   "source": [
    "alicePrivKey = secrets.randbelow(curve.field.n)\n",
    "alicePubKey = alicePrivKey * curve.g\n",
    "print(\"Alice public key:\", compress(alicePubKey))"
   ]
  },
  {
   "cell_type": "code",
   "execution_count": 6,
   "id": "b4ae50c7",
   "metadata": {},
   "outputs": [
    {
     "name": "stdout",
     "output_type": "stream",
     "text": [
      "Bob public key: 0x7b838a642eb44587f13e44e37637af62148b27373256a13d629b4a9c77b4bcc6\n"
     ]
    }
   ],
   "source": [
    "bobPrivKey = secrets.randbelow(curve.field.n)\n",
    "bobPubKey = bobPrivKey * curve.g\n",
    "print(\"Bob public key:\", compress(bobPubKey))"
   ]
  },
  {
   "cell_type": "markdown",
   "id": "2deee20f",
   "metadata": {},
   "source": [
    "# Selected"
   ]
  },
  {
   "cell_type": "code",
   "execution_count": 7,
   "id": "d019e777",
   "metadata": {},
   "outputs": [
    {
     "name": "stdout",
     "output_type": "stream",
     "text": [
      "aliceSessionSecret: 42615254973449246354814168630977717047809268681962668125473801299279266710706\n",
      "\n",
      "to Bob: 0xcc8b292d8dbfb213343c52bbc098370f3844e937c6d8ef23d6cc41b6930be97f\n"
     ]
    }
   ],
   "source": [
    "aliceSessionSecret = secrets.randbelow(curve.field.n)\n",
    "print(\"aliceSessionSecret:\", aliceSessionSecret)\n",
    "\n",
    "aliceSelfPartialShared = aliceSessionSecret * curve.g\n",
    "\n",
    "toBob = (alicePrivKey + aliceSessionSecret) * bobPubKey\n",
    "print(\"\\nto Bob:\", compress(toBob))"
   ]
  },
  {
   "cell_type": "code",
   "execution_count": 8,
   "id": "b254e7f1",
   "metadata": {},
   "outputs": [
    {
     "name": "stdout",
     "output_type": "stream",
     "text": [
      "bobSessionSecret: 8863633809990613276847666487662975863038599892509544670743936380771820880895\n",
      "\n",
      "to Alice: 0x4aef20b704f4bc4b857f9b1d9c7cc006c1159dab997bbf1d8301683ea881a791\n"
     ]
    }
   ],
   "source": [
    "bobSessionSecret = secrets.randbelow(curve.field.n)\n",
    "print(\"bobSessionSecret:\", bobSessionSecret)\n",
    "\n",
    "bobSelfPartialShared = bobSessionSecret * curve.g\n",
    "\n",
    "toAlice = (bobPrivKey + bobSessionSecret) * alicePubKey\n",
    "print(\"\\nto Alice:\", compress(toAlice))"
   ]
  },
  {
   "cell_type": "markdown",
   "id": "9ec49eef",
   "metadata": {},
   "source": [
    "## Computing shared"
   ]
  },
  {
   "cell_type": "code",
   "execution_count": 9,
   "id": "0eeece45",
   "metadata": {},
   "outputs": [
    {
     "name": "stdout",
     "output_type": "stream",
     "text": [
      "aliceShared: 0x81865394b36347bc27ffdd46ab53f6c1e08d7f890f2c1035acd64d041ce72f75\n"
     ]
    }
   ],
   "source": [
    "alicePrivKeyInv = pow(alicePrivKey, -1, curve.field.n)\n",
    "alicePartialShared =  (toAlice * alicePrivKeyInv) - bobPubKey\n",
    "\n",
    "aliceShared = aliceSelfPartialShared + alicePartialShared\n",
    "print(\"aliceShared:\", compress(aliceShared))"
   ]
  },
  {
   "cell_type": "code",
   "execution_count": 10,
   "id": "44b4a0ac",
   "metadata": {},
   "outputs": [
    {
     "name": "stdout",
     "output_type": "stream",
     "text": [
      "bobShared: 0x81865394b36347bc27ffdd46ab53f6c1e08d7f890f2c1035acd64d041ce72f75\n"
     ]
    }
   ],
   "source": [
    "bobPrivKeyInv = pow(bobPrivKey, -1, curve.field.n)\n",
    "bobPartialShared = (toBob * bobPrivKeyInv) - alicePubKey\n",
    "\n",
    "bobShared = bobSelfPartialShared + bobPartialShared\n",
    "print(\"bobShared:\", compress(bobShared))"
   ]
  },
  {
   "cell_type": "code",
   "execution_count": 11,
   "id": "083a96e3",
   "metadata": {},
   "outputs": [
    {
     "name": "stdout",
     "output_type": "stream",
     "text": [
      "Equal shared keys: True\n"
     ]
    }
   ],
   "source": [
    "print(\"Equal shared keys:\", aliceShared.x == bobShared.x)"
   ]
  },
  {
   "cell_type": "code",
   "execution_count": null,
   "id": "9fecf3d7",
   "metadata": {},
   "outputs": [],
   "source": []
  }
 ],
 "metadata": {
  "kernelspec": {
   "display_name": "Python 3",
   "language": "python",
   "name": "python3"
  },
  "language_info": {
   "codemirror_mode": {
    "name": "ipython",
    "version": 3
   },
   "file_extension": ".py",
   "mimetype": "text/x-python",
   "name": "python",
   "nbconvert_exporter": "python",
   "pygments_lexer": "ipython3",
   "version": "3.9.6"
  }
 },
 "nbformat": 4,
 "nbformat_minor": 5
}
