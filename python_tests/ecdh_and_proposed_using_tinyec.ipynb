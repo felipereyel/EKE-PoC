{
 "cells": [
  {
   "cell_type": "code",
   "execution_count": 1,
   "id": "77e46c5b",
   "metadata": {
    "scrolled": true
   },
   "outputs": [
    {
     "name": "stdout",
     "output_type": "stream",
     "text": [
      "Defaulting to user installation because normal site-packages is not writeable\n",
      "Requirement already satisfied: tinyec in /home/reyelabstra/.local/lib/python3.9/site-packages (0.3.1)\n"
     ]
    }
   ],
   "source": [
    "!pip install tinyec"
   ]
  },
  {
   "cell_type": "code",
   "execution_count": 2,
   "id": "5e00abe5",
   "metadata": {},
   "outputs": [],
   "source": [
    "import secrets\n",
    "from tinyec import registry"
   ]
  },
  {
   "cell_type": "code",
   "execution_count": 3,
   "id": "09f4a4b1",
   "metadata": {},
   "outputs": [],
   "source": [
    "def compress(pubKey):\n",
    "    return hex(pubKey.x)"
   ]
  },
  {
   "cell_type": "code",
   "execution_count": 4,
   "id": "288b5558",
   "metadata": {},
   "outputs": [],
   "source": [
    "curve = registry.get_curve('secp256r1')"
   ]
  },
  {
   "cell_type": "code",
   "execution_count": 5,
   "id": "b077e70a",
   "metadata": {},
   "outputs": [
    {
     "name": "stdout",
     "output_type": "stream",
     "text": [
      "Alice public key: 0x390ed99205010b90e7f9ef521c54ab5ab406301e2101c65ec622353815dfc5d6\n"
     ]
    }
   ],
   "source": [
    "alicePrivKey = secrets.randbelow(curve.field.n)\n",
    "alicePubKey = alicePrivKey * curve.g\n",
    "print(\"Alice public key:\", compress(alicePubKey))"
   ]
  },
  {
   "cell_type": "code",
   "execution_count": 6,
   "id": "b4ae50c7",
   "metadata": {},
   "outputs": [
    {
     "name": "stdout",
     "output_type": "stream",
     "text": [
      "Bob public key: 0x21399815dde1d48f2800e8a4cf159d82523b54edc5ec6c020675adea3e262bb8\n"
     ]
    }
   ],
   "source": [
    "bobPrivKey = secrets.randbelow(curve.field.n)\n",
    "bobPubKey = bobPrivKey * curve.g\n",
    "print(\"Bob public key:\", compress(bobPubKey))"
   ]
  },
  {
   "cell_type": "markdown",
   "id": "e04d63e5",
   "metadata": {},
   "source": [
    "# ECDH"
   ]
  },
  {
   "cell_type": "code",
   "execution_count": 7,
   "id": "0014eee8",
   "metadata": {},
   "outputs": [
    {
     "name": "stdout",
     "output_type": "stream",
     "text": [
      "Alice shared key: 0xdf608ea91ad785ee63625f29c5af6a5268a0cbd931f5eb725c67f8c98074fdf7\n"
     ]
    }
   ],
   "source": [
    "aliceSharedKey = alicePrivKey * bobPubKey\n",
    "print(\"Alice shared key:\", compress(aliceSharedKey))"
   ]
  },
  {
   "cell_type": "code",
   "execution_count": 8,
   "id": "035b407a",
   "metadata": {},
   "outputs": [
    {
     "name": "stdout",
     "output_type": "stream",
     "text": [
      "Bob shared key: 0xdf608ea91ad785ee63625f29c5af6a5268a0cbd931f5eb725c67f8c98074fdf7\n"
     ]
    }
   ],
   "source": [
    "bobSharedKey = bobPrivKey * alicePubKey\n",
    "print(\"Bob shared key:\", compress(bobSharedKey))"
   ]
  },
  {
   "cell_type": "code",
   "execution_count": 9,
   "id": "ddc436c1",
   "metadata": {},
   "outputs": [
    {
     "name": "stdout",
     "output_type": "stream",
     "text": [
      "Equal shared keys: True\n"
     ]
    }
   ],
   "source": [
    "print(\"Equal shared keys:\", aliceSharedKey == bobSharedKey)"
   ]
  },
  {
   "cell_type": "markdown",
   "id": "2deee20f",
   "metadata": {},
   "source": [
    "# Selected"
   ]
  },
  {
   "cell_type": "code",
   "execution_count": 10,
   "id": "d019e777",
   "metadata": {},
   "outputs": [
    {
     "name": "stdout",
     "output_type": "stream",
     "text": [
      "aliceSessionSecret: 110597949588124173913380997439899016580151652415201875188732749955098238273705\n",
      "aliceSelfPartialShared: 0x373dd8bbb8f9b14d867fc01f160a8d0ad9b9b37274c73c93bad06c675b01e975\n",
      "to Bob: 0xdf08262a26ce39880a6217685dd27bc60dbdebd9c2b444fd7b41b3f80c80bd14\n"
     ]
    }
   ],
   "source": [
    "aliceSessionSecret = secrets.randbelow(curve.field.n)\n",
    "print(\"aliceSessionSecret:\", aliceSessionSecret)\n",
    "\n",
    "aliceSelfPartialShared = aliceSessionSecret * curve.g\n",
    "print(\"aliceSelfPartialShared:\", compress(aliceSelfPartialShared))\n",
    "\n",
    "toBob = (alicePrivKey + aliceSessionSecret) * bobPubKey\n",
    "print(\"to Bob:\", compress(toBob))"
   ]
  },
  {
   "cell_type": "code",
   "execution_count": 11,
   "id": "b254e7f1",
   "metadata": {},
   "outputs": [
    {
     "name": "stdout",
     "output_type": "stream",
     "text": [
      "bobSessionSecret: 105681370464123269745508846097648435958747218225751481596408454102168536662430\n",
      "bobSelfPartialShared: 0xe186dd6fa64f9a6f825a279952b3280c3910dd86349359496b0a213d3439b1ae\n",
      "to Alice: 0x21b82cefc38ec78898122166713a2de8e8af6a65b6a6498525d07c9382079506\n"
     ]
    }
   ],
   "source": [
    "bobSessionSecret = secrets.randbelow(curve.field.n)\n",
    "print(\"bobSessionSecret:\", bobSessionSecret)\n",
    "\n",
    "bobSelfPartialShared = bobSessionSecret * curve.g\n",
    "print(\"bobSelfPartialShared:\", compress(bobSelfPartialShared))\n",
    "\n",
    "toAlice = (bobPrivKey + bobSessionSecret) * alicePubKey\n",
    "print(\"to Alice:\", compress(toAlice))"
   ]
  },
  {
   "cell_type": "markdown",
   "id": "9ec49eef",
   "metadata": {},
   "source": [
    "## Computing shared"
   ]
  },
  {
   "cell_type": "code",
   "execution_count": 18,
   "id": "0eeece45",
   "metadata": {},
   "outputs": [
    {
     "name": "stdout",
     "output_type": "stream",
     "text": [
      "aliceShared: 0xe76884e0caf40edafe7aa7d7046c1d1b78f1041202a001035c607018dbda75e5\n"
     ]
    }
   ],
   "source": [
    "alicePrivKeyInv = pow(alicePrivKey, -1, curve.field.n)\n",
    "alicePartialShared =  (toAlice * alicePrivKeyInv) - bobPubKey\n",
    "\n",
    "aliceShared = aliceSelfPartialShared + alicePartialShared\n",
    "print(\"aliceShared:\", compress(aliceShared))"
   ]
  },
  {
   "cell_type": "code",
   "execution_count": 19,
   "id": "44b4a0ac",
   "metadata": {},
   "outputs": [
    {
     "name": "stdout",
     "output_type": "stream",
     "text": [
      "bobShared: 0xe76884e0caf40edafe7aa7d7046c1d1b78f1041202a001035c607018dbda75e5\n"
     ]
    }
   ],
   "source": [
    "bobPrivKeyInv = pow(bobPrivKey, -1, curve.field.n)\n",
    "bobPartialShared = (toBob * bobPrivKeyInv) - alicePubKey\n",
    "\n",
    "bobShared = bobSelfPartialShared + bobPartialShared\n",
    "print(\"bobShared:\", compress(bobShared))"
   ]
  },
  {
   "cell_type": "code",
   "execution_count": 20,
   "id": "083a96e3",
   "metadata": {},
   "outputs": [
    {
     "name": "stdout",
     "output_type": "stream",
     "text": [
      "Equal shared keys: True\n"
     ]
    }
   ],
   "source": [
    "print(\"Equal shared keys:\", aliceShared.x == bobShared.x)"
   ]
  },
  {
   "cell_type": "code",
   "execution_count": null,
   "id": "9fecf3d7",
   "metadata": {},
   "outputs": [],
   "source": []
  }
 ],
 "metadata": {
  "kernelspec": {
   "display_name": "Python 3",
   "language": "python",
   "name": "python3"
  },
  "language_info": {
   "codemirror_mode": {
    "name": "ipython",
    "version": 3
   },
   "file_extension": ".py",
   "mimetype": "text/x-python",
   "name": "python",
   "nbconvert_exporter": "python",
   "pygments_lexer": "ipython3",
   "version": "3.9.5"
  }
 },
 "nbformat": 4,
 "nbformat_minor": 5
}
