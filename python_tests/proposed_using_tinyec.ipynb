{
 "cells": [
  {
   "cell_type": "code",
   "execution_count": 1,
   "id": "77e46c5b",
   "metadata": {},
   "outputs": [
    {
     "name": "stdout",
     "output_type": "stream",
     "text": [
      "Defaulting to user installation because normal site-packages is not writeable\n",
      "Requirement already satisfied: tinyec in /home/reyelabstra/.local/lib/python3.9/site-packages (0.3.1)\n"
     ]
    }
   ],
   "source": [
    "!pip install tinyec"
   ]
  },
  {
   "cell_type": "code",
   "execution_count": 12,
   "id": "5e00abe5",
   "metadata": {},
   "outputs": [],
   "source": [
    "import secrets\n",
    "from tinyec import registry\n",
    "from Crypto.Cipher import AES"
   ]
  },
  {
   "cell_type": "code",
   "execution_count": 3,
   "id": "09f4a4b1",
   "metadata": {},
   "outputs": [],
   "source": [
    "def compress(pubKey):\n",
    "    return hex(pubKey.x)"
   ]
  },
  {
   "cell_type": "code",
   "execution_count": 4,
   "id": "288b5558",
   "metadata": {},
   "outputs": [],
   "source": [
    "curve = registry.get_curve('secp256r1')"
   ]
  },
  {
   "cell_type": "markdown",
   "id": "0c4eed1b",
   "metadata": {},
   "source": [
    "# Public Keys"
   ]
  },
  {
   "cell_type": "code",
   "execution_count": 5,
   "id": "b077e70a",
   "metadata": {},
   "outputs": [
    {
     "name": "stdout",
     "output_type": "stream",
     "text": [
      "Alice public key: 0xd2cfc91adb03c95aec0cbc422e04fd9dbf8bf55f6026a6186415789b68e8e748\n"
     ]
    }
   ],
   "source": [
    "alicePrivKey = secrets.randbelow(curve.field.n)\n",
    "alicePubKey = alicePrivKey * curve.g\n",
    "print(\"Alice public key:\", compress(alicePubKey))"
   ]
  },
  {
   "cell_type": "code",
   "execution_count": 6,
   "id": "b4ae50c7",
   "metadata": {},
   "outputs": [
    {
     "name": "stdout",
     "output_type": "stream",
     "text": [
      "Bob public key: 0x7179ad58f368bf7643ebf051a9d6766f2603d45fd5358f74872e3370337fd033\n"
     ]
    }
   ],
   "source": [
    "bobPrivKey = secrets.randbelow(curve.field.n)\n",
    "bobPubKey = bobPrivKey * curve.g\n",
    "print(\"Bob public key:\", compress(bobPubKey))"
   ]
  },
  {
   "cell_type": "markdown",
   "id": "2deee20f",
   "metadata": {},
   "source": [
    "# Selected"
   ]
  },
  {
   "cell_type": "code",
   "execution_count": 7,
   "id": "d019e777",
   "metadata": {},
   "outputs": [
    {
     "name": "stdout",
     "output_type": "stream",
     "text": [
      "aliceSessionSecret: 248210527818849416100540499604306170434430963974037113958653120129074620369\n",
      "\n",
      "to Bob: 0xd2e07c91bbafb911b3ce8c5bb92c3434e14ea59c359db9e5eb97698086500b8f\n"
     ]
    }
   ],
   "source": [
    "aliceSessionSecret = secrets.randbelow(curve.field.n)\n",
    "print(\"aliceSessionSecret:\", aliceSessionSecret)\n",
    "\n",
    "aliceSelfPartialShared = aliceSessionSecret * curve.g\n",
    "\n",
    "toBob = (alicePrivKey + aliceSessionSecret) * bobPubKey\n",
    "print(\"\\nto Bob:\", compress(toBob))"
   ]
  },
  {
   "cell_type": "code",
   "execution_count": 8,
   "id": "b254e7f1",
   "metadata": {},
   "outputs": [
    {
     "name": "stdout",
     "output_type": "stream",
     "text": [
      "bobSessionSecret: 17104219107146196906665435613773405983567232540167069478074479942525261977221\n",
      "\n",
      "to Alice: 0xdbfd6fca3553f13abe2e97b5dd97953279af1d92ec8fcad17d123e2a72a6d95d\n"
     ]
    }
   ],
   "source": [
    "bobSessionSecret = secrets.randbelow(curve.field.n)\n",
    "print(\"bobSessionSecret:\", bobSessionSecret)\n",
    "\n",
    "bobSelfPartialShared = bobSessionSecret * curve.g\n",
    "\n",
    "toAlice = (bobPrivKey + bobSessionSecret) * alicePubKey\n",
    "print(\"\\nto Alice:\", compress(toAlice))"
   ]
  },
  {
   "cell_type": "markdown",
   "id": "9ec49eef",
   "metadata": {},
   "source": [
    "## Computing shared"
   ]
  },
  {
   "cell_type": "code",
   "execution_count": 9,
   "id": "0eeece45",
   "metadata": {},
   "outputs": [
    {
     "name": "stdout",
     "output_type": "stream",
     "text": [
      "aliceShared: 0xa4fe7a059f4ff206222ba1c5e16f1c667fc01f8c087b7c226b3ae5ac420a0c3\n"
     ]
    }
   ],
   "source": [
    "alicePrivKeyInv = pow(alicePrivKey, -1, curve.field.n)\n",
    "alicePartialShared =  (toAlice * alicePrivKeyInv) - bobPubKey\n",
    "\n",
    "aliceShared = aliceSelfPartialShared + alicePartialShared\n",
    "print(\"aliceShared:\", compress(aliceShared))"
   ]
  },
  {
   "cell_type": "code",
   "execution_count": 10,
   "id": "44b4a0ac",
   "metadata": {},
   "outputs": [
    {
     "name": "stdout",
     "output_type": "stream",
     "text": [
      "bobShared: 0xa4fe7a059f4ff206222ba1c5e16f1c667fc01f8c087b7c226b3ae5ac420a0c3\n"
     ]
    }
   ],
   "source": [
    "bobPrivKeyInv = pow(bobPrivKey, -1, curve.field.n)\n",
    "bobPartialShared = (toBob * bobPrivKeyInv) - alicePubKey\n",
    "\n",
    "bobShared = bobSelfPartialShared + bobPartialShared\n",
    "print(\"bobShared:\", compress(bobShared))"
   ]
  },
  {
   "cell_type": "code",
   "execution_count": 11,
   "id": "083a96e3",
   "metadata": {},
   "outputs": [
    {
     "name": "stdout",
     "output_type": "stream",
     "text": [
      "Equal shared keys: True\n"
     ]
    }
   ],
   "source": [
    "print(\"Equal shared keys:\", aliceShared.x == bobShared.x)"
   ]
  },
  {
   "cell_type": "markdown",
   "id": "efb2d80e",
   "metadata": {},
   "source": [
    "# Cryptography"
   ]
  },
  {
   "cell_type": "markdown",
   "id": "f0697951",
   "metadata": {},
   "source": [
    "## Encrypt"
   ]
  },
  {
   "cell_type": "code",
   "execution_count": 33,
   "id": "eeb15897",
   "metadata": {},
   "outputs": [],
   "source": [
    "import base64\n",
    "from Crypto.Cipher import AES\n",
    "from Crypto import Random\n",
    "from Crypto.Util.Padding import pad, unpad"
   ]
  },
  {
   "cell_type": "code",
   "execution_count": 77,
   "id": "77725f48",
   "metadata": {},
   "outputs": [],
   "source": [
    "class AESCipher:\n",
    "    def __init__(self, intKey):\n",
    "        self.key = intKey.to_bytes(32, 'big')\n",
    "\n",
    "    def encrypt(self, msg):\n",
    "        raw = str.encode(msg)\n",
    "        raw = pad(raw, BS)\n",
    "        iv = Random.new().read(AES.block_size)\n",
    "        cipher = AES.new(self.key, AES.MODE_CBC, iv)\n",
    "        return base64.b64encode(iv + cipher.encrypt(raw)).decode(\"ascii\")\n",
    "\n",
    "    def decrypt(self, enc):\n",
    "        enc = base64.b64decode(enc)\n",
    "        iv = enc[:BS]\n",
    "        cipher = AES.new(self.key, AES.MODE_CBC, iv)\n",
    "        return unpad(cipher.decrypt( enc[BS:] ), BS).decode()"
   ]
  },
  {
   "cell_type": "code",
   "execution_count": 78,
   "id": "03ab890f",
   "metadata": {},
   "outputs": [],
   "source": [
    "cipher = AESCipher(aliceShared.x)"
   ]
  },
  {
   "cell_type": "code",
   "execution_count": 81,
   "id": "03aa8c4a",
   "metadata": {},
   "outputs": [
    {
     "data": {
      "text/plain": [
       "'Y0RHWaTOsqnIkDOqlgtrFfoFck9ZMPnMV/B2vRFBLXVPvfXRHuZR3utXnD6j+fB0ZMON/8ryS/x5ABtAbDUwFg=='"
      ]
     },
     "execution_count": 81,
     "metadata": {},
     "output_type": "execute_result"
    }
   ],
   "source": [
    "a = cipher.encrypt(\"sdaskdgasdlkajsdhas?AsD/asdaksdha'\")\n",
    "a"
   ]
  },
  {
   "cell_type": "code",
   "execution_count": 83,
   "id": "0949a4e6",
   "metadata": {},
   "outputs": [
    {
     "data": {
      "text/plain": [
       "\"sdaskdgasdlkajsdhas?AsD/asdaksdha'\""
      ]
     },
     "execution_count": 83,
     "metadata": {},
     "output_type": "execute_result"
    }
   ],
   "source": [
    "cipher.decrypt(a)"
   ]
  },
  {
   "cell_type": "code",
   "execution_count": 87,
   "id": "6161db15",
   "metadata": {},
   "outputs": [
    {
     "data": {
      "text/plain": [
       "'Ck/noFn0/yBiIrocXhbxxmf8AfjAh7fCJrOuWsQgoMM='"
      ]
     },
     "execution_count": 87,
     "metadata": {},
     "output_type": "execute_result"
    }
   ],
   "source": [
    "base64.b64encode(cipher.key).decode()"
   ]
  },
  {
   "cell_type": "code",
   "execution_count": null,
   "id": "0d402cd3",
   "metadata": {},
   "outputs": [],
   "source": []
  }
 ],
 "metadata": {
  "kernelspec": {
   "display_name": "Python 3",
   "language": "python",
   "name": "python3"
  },
  "language_info": {
   "codemirror_mode": {
    "name": "ipython",
    "version": 3
   },
   "file_extension": ".py",
   "mimetype": "text/x-python",
   "name": "python",
   "nbconvert_exporter": "python",
   "pygments_lexer": "ipython3",
   "version": "3.9.6"
  }
 },
 "nbformat": 4,
 "nbformat_minor": 5
}
